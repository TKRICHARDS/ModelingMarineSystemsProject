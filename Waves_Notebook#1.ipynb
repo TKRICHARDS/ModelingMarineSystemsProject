{
 "cells": [
  {
   "cell_type": "markdown",
   "metadata": {},
   "source": [
    "Project Notebook #1"
   ]
  },
  {
   "cell_type": "code",
   "execution_count": 70,
   "metadata": {
    "collapsed": false
   },
   "outputs": [
    {
     "data": {
      "text/plain": [
       "[<matplotlib.lines.Line2D at 0x10e14de48>]"
      ]
     },
     "execution_count": 70,
     "metadata": {},
     "output_type": "execute_result"
    },
    {
     "data": {
      "image/png": "[encoded data removed]",
      "text/plain": [
       "<matplotlib.figure.Figure at 0x10dd26278>"
      ]
     },
     "metadata": {},
     "output_type": "display_data"
    }
   ],
   "source": [
    "% matplotlib inline\n",
    "import matplotlib.pyplot as plt\n",
    "import numpy as np\n",
    "\n",
    "# Define model varaibles\n",
    "xmin = 0;\n",
    "xmax = 1;\n",
    "nodes = 100; # Number of nodes-1\n",
    "dt = 0.009; # Timestep\n",
    "time = 0.0 # Initialize time\n",
    "t_max = 0.5 # Maximum time\n",
    "v = 1 # Initialize the wave velocity\n",
    "\n",
    "# Discretise the domain\n",
    "dx = (xmax - xmin)/nodes\n",
    "x = np.linspace((xmin-dx), (xmax+dx), nodes, endpoint=True) # Set ghost points past the boundaries\n",
    "\n",
    "# Set initial conditions\n",
    "u0 = np.exp(-200*np.square(x - 0.25)) #0.25 sensor to gausion function\n",
    "u = u0 # Initialize u\n",
    "u_np1 = u0 # Initialize the next time steps (u_n_plus_1)\n",
    "\n",
    "plt.plot(x,u0)"
   ]
  },
  {
   "cell_type": "code",
   "execution_count": 71,
   "metadata": {
    "collapsed": false
   },
   "outputs": [
    {
     "data": {
      "image/png": "[encoded data removed]",
      "text/plain": [
       "<matplotlib.figure.Figure at 0x10e107ba8>"
      ]
     },
     "metadata": {},
     "output_type": "display_data"
    }
   ],
   "source": [
    "#Now we will perform the loop though each time step\n",
    "nsteps = t_max/dt\n",
    "for n in range(1,np.int_(np.floor(nsteps))):\n",
    "    \n",
    "    # Calculate the boundary conditions\n",
    "    u[0] = u[2] # Sets the first 'real' u\n",
    "    u[n+2] = u[n] # Sets the final 'real' u\n",
    "    \n",
    "    # Calculate the First Order Upstream scheme\n",
    "    for i in range(1,n+1):\n",
    "        u_np1[i] = u[i] - v*dt/dx*(u[i] - u[i-1])\n",
    "        # Add in equation for height here\n",
    "                                   \n",
    "    # Update t and u\n",
    "    time = time + dt\n",
    "    u = u_np1\n",
    "    \n",
    "    # Plot the solution for the scheme\n",
    "    plt.plot(x, u)"
   ]
  },
  {
   "cell_type": "code",
   "execution_count": 74,
   "metadata": {
    "collapsed": false
   },
   "outputs": [],
   "source": [
    "% matplotlib inline\n",
    "from mpl_toolkits.mplot3d import Axes3D as ax\n",
    "import matplotlib.pyplot as plt\n",
    "import numpy as np\n",
    "\n",
    "Nx = 100 # Number of x divisions\n",
    "Ny = 100 # Number of y divisions\n",
    "Nstep = 100 # Number of time steps\n",
    "Lx = 100 # Length of the x-domain\n",
    "Ly = 100 # Length of the y-domain\n",
    "dx = Lx/(Nx-1) # x step length\n",
    "dy = Ly/(Ny-1) # y step length\n",
    "time = 0.0 # Initialize time\n",
    "dt = 0.02\n",
    "\n",
    "h = np.zeros((Nx,Ny)) # Initialize surface height\n",
    "ho = np.zeros((Nx,Ny)) # Initialize place-holder height\n",
    "\n",
    "x = np.zeros((Nx,Ny)) # Initialize dimensions\n",
    "y = np.zeros((Nx,Ny))\n",
    "\n",
    "for i in range(0,Nx-1): # This loop will make the first and last points ghosts\n",
    "    for j in range(0,Ny-1):\n",
    "        x[i,j] = dx*(i-1)\n",
    "        y[i,j] = dy*(j-1)\n",
    "        \n",
    "X,Y = np.meshgrid(x,y)\n",
    "        \n",
    "u = -0.0 # Initialize the velocities\n",
    "v = -1.0 "
   ]
  },
  {
   "cell_type": "code",
   "execution_count": 75,
   "metadata": {
    "collapsed": false
   },
   "outputs": [
    {
     "ename": "NameError",
     "evalue": "name 'fig' is not defined",
     "output_type": "error",
     "traceback": [
      "\u001b[0;31m---------------------------------------------------------------------------\u001b[0m",
      "\u001b[0;31mNameError\u001b[0m                                 Traceback (most recent call last)",
      "\u001b[0;32m<ipython-input-75-71ddfb6eb1a5>\u001b[0m in \u001b[0;36m<module>\u001b[0;34m()\u001b[0m\n\u001b[1;32m      2\u001b[0m \u001b[0;34m\u001b[0m\u001b[0m\n\u001b[1;32m      3\u001b[0m \u001b[0mfig1\u001b[0m \u001b[0;34m=\u001b[0m \u001b[0mplt\u001b[0m\u001b[0;34m.\u001b[0m\u001b[0mfigure\u001b[0m\u001b[0;34m(\u001b[0m\u001b[0;34m)\u001b[0m\u001b[0;34m\u001b[0m\u001b[0m\n\u001b[0;32m----> 4\u001b[0;31m \u001b[0max\u001b[0m \u001b[0;34m=\u001b[0m \u001b[0mfig\u001b[0m\u001b[0;34m.\u001b[0m\u001b[0madd_subplot\u001b[0m\u001b[0;34m(\u001b[0m\u001b[0;36m111\u001b[0m\u001b[0;34m,\u001b[0m \u001b[0mprojection\u001b[0m\u001b[0;34m=\u001b[0m\u001b[0;34m'3d'\u001b[0m\u001b[0;34m)\u001b[0m\u001b[0;34m\u001b[0m\u001b[0m\n\u001b[0m\u001b[1;32m      5\u001b[0m \u001b[0max\u001b[0m\u001b[0;34m.\u001b[0m\u001b[0mplot_surface\u001b[0m\u001b[0;34m(\u001b[0m\u001b[0mx\u001b[0m\u001b[0;34m,\u001b[0m \u001b[0my\u001b[0m\u001b[0;34m,\u001b[0m \u001b[0mh\u001b[0m\u001b[0;34m)\u001b[0m\u001b[0;34m\u001b[0m\u001b[0m\n\u001b[1;32m      6\u001b[0m \u001b[0mplt\u001b[0m\u001b[0;34m.\u001b[0m\u001b[0mshow\u001b[0m\u001b[0;34m(\u001b[0m\u001b[0;34m)\u001b[0m\u001b[0;34m\u001b[0m\u001b[0m\n",
      "\u001b[0;31mNameError\u001b[0m: name 'fig' is not defined"
     ]
    },
    {
     "data": {
      "text/plain": [
       "<matplotlib.figure.Figure at 0x10e5caef0>"
      ]
     },
     "metadata": {},
     "output_type": "display_data"
    }
   ],
   "source": [
    "h[11:20,Ny-1] = 0.03*np.sin(2*np.pi*(time))+0.5 \n",
    "\n",
    "fig1 = plt.figure()\n",
    "ax = fig.add_subplot(111, projection='3d')\n",
    "ax.plot_surface(x, y, h)\n",
    "plt.show()"
   ]
  },
  {
   "cell_type": "code",
   "execution_count": 73,
   "metadata": {
    "collapsed": false
   },
   "outputs": [
    {
     "ename": "NameError",
     "evalue": "name 'c' is not defined",
     "output_type": "error",
     "traceback": [
      "\u001b[0;31m---------------------------------------------------------------------------\u001b[0m",
      "\u001b[0;31mNameError\u001b[0m                                 Traceback (most recent call last)",
      "\u001b[0;32m<ipython-input-73-aa01d256130e>\u001b[0m in \u001b[0;36m<module>\u001b[0;34m()\u001b[0m\n\u001b[1;32m      5\u001b[0m \u001b[0mdx\u001b[0m \u001b[0;34m=\u001b[0m \u001b[0mLx\u001b[0m\u001b[0;34m/\u001b[0m\u001b[0mNx\u001b[0m \u001b[0;31m# x step length\u001b[0m\u001b[0;34m\u001b[0m\u001b[0m\n\u001b[1;32m      6\u001b[0m \u001b[0mdt\u001b[0m \u001b[0;34m=\u001b[0m \u001b[0mLt\u001b[0m\u001b[0;34m/\u001b[0m\u001b[0mNt\u001b[0m \u001b[0;31m# Time step length\u001b[0m\u001b[0;34m\u001b[0m\u001b[0m\n\u001b[0;32m----> 7\u001b[0;31m \u001b[0mC\u001b[0m \u001b[0;34m=\u001b[0m \u001b[0mc\u001b[0m\u001b[0;34m*\u001b[0m\u001b[0mdt\u001b[0m\u001b[0;34m/\u001b[0m\u001b[0mdx\u001b[0m \u001b[0;31m# Initialize C\u001b[0m\u001b[0;34m\u001b[0m\u001b[0m\n\u001b[0m\u001b[1;32m      8\u001b[0m \u001b[0;34m\u001b[0m\u001b[0m\n\u001b[1;32m      9\u001b[0m \u001b[0;31m# At time 1:\u001b[0m\u001b[0;34m\u001b[0m\u001b[0;34m\u001b[0m\u001b[0m\n",
      "\u001b[0;31mNameError\u001b[0m: name 'c' is not defined"
     ]
    }
   ],
   "source": [
    "Nx = 100 # Number of x divisions\n",
    "Nt = 100 # Number of time divisions\n",
    "Lx = 100 # Length of the x-domain\n",
    "Lt = 100 # Length of the time domain\n",
    "dx = Lx/Nx # x step length\n",
    "dt = Lt/Nt # Time step length \n",
    "C = c*dt/dx # Initialize C\n",
    "\n",
    "# At time 1:\n",
    "u[i,1] = u[i,0] + (1/2)*C*C*(u[i+1,0] + u[i-1,0] - 2*u[i,0])\n",
    "# At interior points:\n",
    "u[i,n+1] = -u[i,n-1] + 2*u[i,n] + C*C*(u[i+1,n] + u[i-1,n] - 2*u[i,n])"
   ]
  }
 ],
 "metadata": {
  "kernelspec": {
   "display_name": "Python 3",
   "language": "python",
   "name": "python3"
  },
  "language_info": {
   "codemirror_mode": {
    "name": "ipython",
    "version": 3
   },
   "file_extension": ".py",
   "mimetype": "text/x-python",
   "name": "python",
   "nbconvert_exporter": "python",
   "pygments_lexer": "ipython3",
   "version": "3.5.1"
  }
 },
 "nbformat": 4,
 "nbformat_minor": 0
}
