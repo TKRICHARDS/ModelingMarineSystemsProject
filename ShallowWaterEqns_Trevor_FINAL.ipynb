{
 "cells": [
  {
   "cell_type": "markdown",
   "metadata": {},
   "source": [
    "# Shallow Water Equations"
   ]
  },
  {
   "cell_type": "markdown",
   "metadata": {},
   "source": [
    "The shallow-water equations are a set of partial differential equations derived from the Navier-Stokes equations, which are themselves derived from the equations for the conservation of mass and momentum. I am interested in a very specific application of the shallow-water equations. That is, I would like to apply this approximation to model shallow-water waves. The term shallow water wave refers to a wave in which the characteristic horizontal length scale is much greater than the characteristic vertical length scale. To put this another way, the wavelength is much greater than the amplitude. This set of equations is applicbable to a range of natural phenomena in which vertical dynamics are considered to be very small in comparison to horizontal dynamics, and thus the vertical effects may be neglected. \n",
    "\n",
    "This system has been used for numerous real world applications in the past and are stil frequently used today. As one may imagine, some of the most common uses for this system are within the realm of hydrodynamics, specifically the motion of water in the oceans. One of the most obvious of these is the propogation of the Kelvin and Rossby waves across the Pacific ocean during an El-Niño Southern Oscillation (ENSO) event. This application has been performed numerous times, and is still regularly done in novel ways as we are still not very adept at predicting this phenomenon. Guilyardi et al. provide an excellent overview of ENSO and its current understanding within the realm of modeling at the start of this decade. The paper describes how we have moved from relatively simple shallow-water models to more complex coupled open ocean circulation models for describing this event. The authors also call for further exploration of all methods for modeling ENSO and communicating these findings so that we may continue to imporove on our understanding, monitoring, and forcasting abilities regarding these events [Guilyardi et al., 2010]. Recently, in an attempt to further our abilities to predict ENSO events, Federov relates the relatively short time scale of wave propogations across the Pacific to the longer time scale of ENSO occurrence frequency. This allows him to produce a simplified, novel approximation of the shallow-water wave equations for modeling ENSO and relate volumeric sea surface temperature anomomiles to thermocline perturbations as well as model the apparent decadal climate variability in the Pacific [Federov, 2010]. This shows how we are constantly redefining this relatively simple system of equations to examine new areas of the same problem.\n",
    "\n",
    "Furthermore, these applications are not limited soley to hydrodynamic modeling. One such application is in regard to atmospheric modeling, since the atmosphere is just another form of a fluid. Jiang used a more complex reduced-gravity shallow-water approximation to model atmospheric layers passing over two-dimensional topography. They were able to derive two non-dimensional parameters that may be used to guage the applicability of shallow-water approximations to atmospheric flows [Jiang, 2014]. Even though they are not shallow-water waves in the strictest sense of the term, these equations are also regularly used to simulate tsunami events. Very recently, Guo et al. build upon tradional non-dispersive shallow-water equations models to produce a time-space decoupled model that produces fast and stable simulations and predictions of tsunami propogation. They provide a well validated model using the typical leap-frog scheme to numerically solve their equations [Guo et al., 2015]. These are just a couple of the applications for shallow-water wave applications. Numerous others have been performed and will continue to be formed due to the simplistic nature and intrinsic ability to accurately represent real world phenomena of this system of equations.\n",
    "\n",
    "The primary goal of this project is to obtain a better understanding of the simplest forms of the shallow-water wave equations and apply this understanding to a simple computer model. This model will attempt to solve the shallow water wave equations within the domain of the pacific ocean to produce a simplified representation of the ENSO event. To do this I will use the shallow-water approximation in the presence of roation on an f-plane. This means that the coriolis parameter will be held constant.\n",
    "\n",
    "### Linearzied Shallow-Water Wave Equations in the Presence of Rotation:\n",
    "\n",
    "$$ \\frac{\\partial u'}{\\partial t'} - f_0v' = -g\\frac{\\partial h'}{\\partial x'} $$\n",
    "\n",
    "$$ \\frac{\\partial v'}{\\partial t'} + f_0u' = -g\\frac{\\partial h'}{\\partial y'} $$\n",
    "\n",
    "$$ \\frac{\\partial h'}{\\partial t'} + H'(\\frac{\\partial u'}{\\partial x'} + \\frac{\\partial v'}{\\partial y'}) = 0 $$\n",
    "\n",
    "  where\n",
    "- $u'$ and $v'$, are velocities of wave motion in $x$ and $y$ directions respectively;\n",
    "- $h'(x,y,t)$ is the free surface height perturbationat at time $t$;\n",
    "- $H'$ is the mean depth of the equatorial Pacific Ocean (~$4000 m$);\n",
    "- $f_{0}$ is the Coriolis parameter, and $f_{0}=2\\Omega sin\\phi_{0}$;\n",
    "- $g$ is the gravitational acceleration ($9.8 \\frac{m}{s^2}$)."
   ]
  },
  {
   "cell_type": "markdown",
   "metadata": {},
   "source": [
    "## Non-dimensionalizing the Equations\n",
    "\n",
    "In order to begin analyzing these equations, we will begin by non-dimensionalizing them. To do this, we introduce a characteristic length scale L, a characteristic time scale T, a characteristic velocity scale U, and an elevation scale E. Then our non-dimensional variables become:\n",
    "\n",
    "$$ t = \\frac{t'}{T} $$ $$ x = \\frac{x'}{L} $$ $$ y = \\frac{y'}{L} $$\n",
    "$$ h = \\frac{h'}{E} $$ $$ u = \\frac{u'}{U} $$ $$ v = \\frac{v'}{U} $$\n",
    "$$ f = f_0T $$\n",
    "\n",
    "The selection of the characteristic scales mentioned above must be such that the following conditions are met: \n",
    "\n",
    "$$ \\frac{L^2}{T^2} = gH $$\n",
    "\n",
    "$$ \\frac{E^2}{U^2} = \\frac{H}{g} $$\n",
    "\n",
    "I will parameterize these values within the simulator.\n",
    "\n",
    "Then after substituting these equalities into our dimensionalized shallow-water wave equations we are left with:\n",
    "\n",
    "$$ \\frac{\\partial h}{\\partial t} + \\frac{\\partial u}{\\partial x} + \\frac{\\partial v}{\\partial y} = 0 $$\n",
    "\n",
    "$$ \\frac{\\partial u}{\\partial t} - fv = -\\frac{\\partial h}{\\partial x} $$\n",
    "\n",
    "$$ \\frac{\\partial v}{\\partial t} + fu = -\\frac{\\partial h}{\\partial y} $$\n",
    "\n",
    "Finally, we are left with solving these equations numerically! \n"
   ]
  },
  {
   "cell_type": "code",
   "execution_count": null,
   "metadata": {
    "collapsed": false
   },
   "outputs": [],
   "source": [
    "# Import all of the necessary modules\n",
    "from mpl_toolkits.mplot3d import axes3d\n",
    "import numpy as np\n",
    "from numpy import *\n",
    "import matplotlib.pyplot as plt\n",
    "import matplotlib.animation as animation\n",
    "from JSAnimation.IPython_display import display_animation\n",
    "% matplotlib inline\n",
    "\n",
    "# Parameterize all constant values\n",
    "xdist = 20000000 # This represents the width of the pacific ocean at the equator (m)\n",
    "ydist = 4000000 # This y dist represents about 10 degrees of latitude (5 above/5below the equator) (m)\n",
    "depth = 4000 # Average depth of the Pacific Ocean (m)\n",
    "g = 9.8 # Gravitational constant\n",
    "f = 0.00005 # I am holding a constant coreolis to represent a small deviation from the equator\n",
    "\n",
    "# Non-dimensionalizing constants\n",
    "# These values satisfy the conditions set above\n",
    "E=sqrt(depth)\n",
    "U=sqrt(g)\n",
    "L=sqrt(depth)\n",
    "T=1/sqrt(g)\n",
    "\n",
    "# Non-dimensionalize the depth:\n",
    "H = depth/E\n",
    "\n",
    "# Define the mesh in space\n",
    "N = 100 # Define the number of grid points along each axis\n",
    "xsteps = N \n",
    "ysteps = N\n",
    "xspace = xdist/L #  Non-dimsensionalize the spatial parameters\n",
    "yspace = ydist/L\n",
    "xspan = np.linspace(0, xspace, xsteps)\n",
    "yspan = np.linspace(0, yspace, ysteps)\n",
    "X, Y = np.meshgrid(xspan, yspan)\n",
    "# Initialize the dx and dy values\n",
    "dx = (xspace-0)/xsteps \n",
    "dy = (yspace-0)/ysteps\n",
    "\n",
    "# Set up the time steps\n",
    "M = 100 # define the number of time steps\n",
    "t_init = 0; t_fin = 1000 # 7500000 ~length of 3 months (s); not enough computing power for that\n",
    "tsteps = M-1 # Since perturbation are calculated in the centroid of this scheme, we need 1 less time step in the grid\n",
    "dt = (t_fin - t_init)/tsteps\n",
    "print(dt)\n",
    "print(dx)\n",
    "print(dy)"
   ]
  },
  {
   "cell_type": "markdown",
   "metadata": {},
   "source": [
    "## Initial Conditions\n",
    "\n",
    "Now we need to set up some initial height perturbation to put our model into motion."
   ]
  },
  {
   "cell_type": "code",
   "execution_count": null,
   "metadata": {
    "collapsed": false
   },
   "outputs": [],
   "source": [
    "# Define the values within the grids\n",
    "h = np.zeros((np.size(xspan),np.size(yspan))) \n",
    "ho = np.zeros((np.size(xspan),np.size(yspan))) \n",
    "\n",
    "u = np.zeros((np.size(xspan),np.size(yspan)))\n",
    "uo = np.zeros((np.size(xspan),np.size(yspan)))\n",
    "\n",
    "v = np.zeros((np.size(xspan),np.size(yspan)))\n",
    "vo = np.zeros((np.size(xspan),np.size(yspan)))\n",
    "\n",
    "# Set up the initial conditions and height perturbation\n",
    "# I have tried these intitial conditions with u,v=0 and u,v =/=0 to little avail\n",
    "#def InitialConditions(u,v,h):\n",
    "    #u[:,:] = -0.1\n",
    "    #v[:,:] = -0\n",
    "    #h[(xsteps/2-xsteps/4):(xsteps/2+xsteps/4), 0:3] = 0.5\n",
    "    #return(u/U, v/U, h/E) # I believe that non-dimensionalization should occur here\n",
    "\n",
    "# Set up the initial conditions\n",
    "#u,v,h = InitialConditions(u,v,h)"
   ]
  },
  {
   "cell_type": "markdown",
   "metadata": {},
   "source": [
    "## Check that Stability Conditions are Met\n",
    "\n",
    "I need to run a quick check that the conditions for stability are satisfied."
   ]
  },
  {
   "cell_type": "code",
   "execution_count": null,
   "metadata": {
    "collapsed": false
   },
   "outputs": [],
   "source": [
    "# Let's make a quick code to check our stability conditions\n",
    "c = sqrt(g*H)\n",
    "stab = dt/dx\n",
    "\n",
    "phi = f*dt\n",
    "\n",
    "c_x = (dt/dx)*sqrt(g*H) # Directional celerities\n",
    "c_y = (dt/dy)*sqrt(g*H)\n",
    "\n",
    "print('This number should be less than 1/2:', c_x*c_x+c_y*c_y)\n",
    "print('This number should be less than 1:', phi*phi)\n",
    "print(stab, 'must be less than', c)\n",
    "\n",
    "if stab<c and phi*phi<1 and c_x*c_x + c_y*c_y < 1/2:\n",
    "    print('The conditions for stability are satisfied! HELL YEAH!')\n",
    "else:\n",
    "    print(\"The conditions for stability are not satisfied. Poo.\")"
   ]
  },
  {
   "cell_type": "markdown",
   "metadata": {},
   "source": [
    "## Boundary Conditions\n",
    "\n",
    "I am going to impose reflective boundary conditions for u in the x direction and v in the y directions. I am going to set the boundary velocities to be the negative of their neighbor. For u in the y direction and v in the x direction, I am going use a free boundary condition. That is, I will set the boundary velocities to be the same as their neighbor. This means once the wave reaches a boundary, it will be reflected back in the opposite direction at the same speed with which it contacted the boundary.\n",
    "Also, I am going to impose a free boundary condition on h, setting the height at the boundary to be the same as that at its neighbor.\n"
   ]
  },
  {
   "cell_type": "code",
   "execution_count": null,
   "metadata": {
    "collapsed": false
   },
   "outputs": [],
   "source": [
    "def VelocityBoundaryConditions(u,v,i,j):\n",
    "    u[0,j] = -u[1,j]\n",
    "    u[xsteps-1,j] = -u[xsteps-2,j]\n",
    "    u[i,0] = u[i,1]\n",
    "    u[i,ysteps-1] = u[i,ysteps-2]\n",
    "    v[i,0] = -v[i,1]\n",
    "    v[i,ysteps-1] = -v[i,ysteps-2]\n",
    "    v[0,j] = v[1,j]\n",
    "    v[xsteps-1,j] = v[xsteps-2,j]\n",
    "    return (u,v)\n",
    "\n",
    "def PerturbationBoundaryConditions(h,i,j):\n",
    "    h[0,j] = h[1,j]\n",
    "    h[xsteps-1,j] = h[xsteps-2,j]\n",
    "    h[i,0] = h[i,1]\n",
    "    h[i,ysteps-1] = h[i,ysteps-2]\n",
    "    return (h)"
   ]
  },
  {
   "cell_type": "markdown",
   "metadata": {},
   "source": [
    "## Implementing the Scheme\n",
    "\n",
    "Now I am left with implementing the scheme. This scheme adaptation originated from me and was passed on to Yu and Ian. I am going to attempt to do this through a central difference scheme using a C-grid."
   ]
  },
  {
   "cell_type": "code",
   "execution_count": null,
   "metadata": {
    "collapsed": false
   },
   "outputs": [],
   "source": [
    "# First I need to set up a figure to display my results\n",
    "fig = plt.figure()\n",
    "ax = axes3d.Axes3D(fig)\n",
    "ax.set_zlim(0,1)\n",
    "\n",
    "time = 0\n",
    "# Now we will implement the scheme\n",
    "def update(i, ax, fig):\n",
    "    global time; global h; global u; global v\n",
    "    ax.cla()\n",
    "    \n",
    "    # I am attempting to initialize the perturbation in a way such that it doesn't stick around\n",
    "    if time==0:\n",
    "        h[(xsteps/2-xsteps/4):(xsteps/2+xsteps/4), 0:3] = 0.5/E\n",
    "    else:\n",
    "        h[(xsteps/2-xsteps/4):(xsteps/2+xsteps/4), 0:3] = 0\n",
    "        \n",
    "    # Here I am setting the parameters for the previous time step so that I am able to avoid 3D arrays\n",
    "    ho = h; uo = u; vo = v \n",
    "    #h = np.zeros((np.size(xspan),np.size(yspan))) # Here I am trying to do away with the initial conditions\n",
    "    \n",
    "    for i in range(1,xsteps-2):\n",
    "        for j in range(1,ysteps-2):\n",
    "            h[i,j] = dt*(((-uo[i+1,j] - uo[i-1,j])/dx) - ((vo[i,j+1] - vo[i,j-1])/dy)) + ho[i,j]\n",
    "            h = PerturbationBoundaryConditions(h,i,j) # This checks and sets the boundaries\n",
    "                 \n",
    "    for i in range(1,xsteps-2):\n",
    "        for j in range(1,ysteps-2):\n",
    "            u[i+1,j] = dt*(((-h[i+2,j] - h[i,j])/dx) + f*vo[i+1,j]) + uo[i+1,j]\n",
    "            v[i+1,j] = dt*(((-h[i,j+2] - h[i,j])/dx) - f*uo[i,j+1]) + uo[i+1,j]\n",
    "            u,v = VelocityBoundaryConditions(u,v,i,j)\n",
    "            \n",
    "    time = time+1 # Make a time counter\n",
    "    \n",
    "    wframe = ax.plot_wireframe(X, Y, h) # Plotting the wireframe at each time step\n",
    "    ax.set_zlim(0,0.0003)\n",
    "    return wframe\n",
    "\n",
    "anim = animation.FuncAnimation(fig, update, \n",
    "        frames=range(tsteps), # Number of frames          \n",
    "        fargs=(ax, fig), # Defines the input arguments\n",
    "        interval=100) # Draws a new frame ever interval milliseconds\n",
    "\n",
    "display_animation(anim, default_mode='loop')"
   ]
  },
  {
   "cell_type": "markdown",
   "metadata": {},
   "source": [
    "### Discussion of Scheme Attempted Above\n",
    "\n",
    "The scheme above is becoming unstable very rapidly, with the height perturbation rapidly approaching negative infinity. It seems like I am able to stabilize it around some low negative number by adjusting the initial velocities of u,v. I believe that this is most likely due to the large scale of dx,dy in comparison to other values, but I am not sure how to reasonable scale them down any farther. I have also experimented with several different means of initializing the model When change the initial velocities the entire bottom of my ocean is sinking out, or it is exploding if I make the initial velocities negative. I can also make a cool animation of a chair being formed from a flat plate by creating a boolean to initialize the height animation in conjunction with negative initial velocities. I have run out of ways in which to do this as well, although they each do appear to have a different ramification. "
   ]
  },
  {
   "cell_type": "markdown",
   "metadata": {},
   "source": [
    "## Conclusion\n",
    "\n",
    "I have definately learned a lot about shallow water waves during my time in this course. I have also advanced my knowledge within Python a great deal! I now regularly use iPython notebooks for personal everyday tasks. Unfortunately, it does not appear that the knowledge gained was enough to produce a stable model. I know that I am going wrong with my stability calculation and parameterization somewhere. I do believe that the majority of my code is valid however, because I have been able to make similar programs work inside of Matlab. I know that I am on the right track and given an extended amount of time and perhaps some critical guidance, I could have this scheme up and running. I will say that I spent numerous hours on this project and improving my knowledge around this topic, so I hope that that will be taken into consideration while grades are being assigned. Overall, I had enjoyable times with this assignment, and times where I wanted to throw my computer out of the window (right now is one of those times). \n",
    "\n",
    "I, Ian, and Yu collaborated on this projects on a regular basis. There were schemes that originated from each of us. To the best of my knowledge, none of us were able to produce a completely stable model that will propogate the breadth of the Pacific and back. Ian figured out how to perform the color mapping and was most pleased with that visual. I was able to fgure out how to produce the matplotlib wireframe movie within the framework of the JSAnimation module that you provided. I prefer that method as I believe it has the most potential for displaying a propogating wave and I am fairly sure that the code I have produced above will produce a pleasing visual providing that one is able to produce a stable model. I believe that Ian will be providing you with the most comprehensive set of schemes. I can assure you that I did try pretty much every one that he did, but I figured it was pointless to provide you with 5 pages of non-working code when it is most likely that small changes to any one of the schemes will produce a working model. Some of the other schemes that I and the others have attempted to implement are the Euler method, upwind scheme, and Lax-Wendfroff scheme. I am sure that I have made a few other non-sensical ones up along the way in my frustrated moments.\n",
    "\n",
    "Even though I have failed to turn in a working model, I honestly do not believe that I, nor any of the others, deserve too low of a score on this assignment because we really did put our best effort into it and a lot was learned along the way!\n",
    "\n",
    "Go easy on us please! :)"
   ]
  },
  {
   "cell_type": "markdown",
   "metadata": {},
   "source": [
    "## References\n",
    "\n",
    "Fedorov, A. V. (2010). Ocean Response to Wind Variations, Warm Water Volume, and Simple Models of ENSO in the Low-Frequency Approximation. Journal Of Climate, 23(14), 3855-3873. doi:10.1175/2010JCLI3044.1\n",
    "\n",
    "Guo, A., Xiao, S., & Li, H. (2015). Time-space decoupled explicit method for fast numerical simulation of tsunami propagation. Pure And Applied Geophysics, 172(2), 569-587. doi:10.1007/s00024-014-0848-1\n",
    "\n",
    "Guilyardi, E., Wittenberg, A., Fedorov, A., Collins, M., Wang, C., Capotondi, A., & ... Stockdale, T. (2010). UNDERSTANDING EL NINO IN OCEAN-ATMOSPHERE GENERAL CIRCULATION MODELS Progress and Challenges. Bulletin Of The American Meteorological Society, 90(3), 325-+. \n",
    "\n",
    "Jiang, Q. (2014). Applicability of Reduced-Gravity Shallow-Water Theory to Atmospheric Flow over Topography. Journal Of The Atmospheric Sciences, 71(4), 1460-1479. doi:10.1175/JAS-D-13-0101.1\n"
   ]
  },
  {
   "cell_type": "markdown",
   "metadata": {},
   "source": [
    "# Post Notes\n",
    "\n",
    "Here are a few concluding comments."
   ]
  },
  {
   "cell_type": "code",
   "execution_count": null,
   "metadata": {
    "collapsed": false
   },
   "outputs": [],
   "source": [
    "# This is just to prove that the animation function does work well for animating waves!\n",
    "\n",
    "def generate(X, Y, phi):\n",
    "    R = 1 - np.sqrt(X**2 + Y**2)\n",
    "    return np.cos(2 * np.pi * X + phi) * R\n",
    "\n",
    "fig = plt.figure()\n",
    "ax = axes3d.Axes3D(fig)\n",
    "\n",
    "xs = np.linspace(-1, 1, 50)\n",
    "ys = np.linspace(-1, 1, 50)\n",
    "X, Y = np.meshgrid(xs, ys)\n",
    "Z = generate(X, Y, 0.0)\n",
    "wframe = ax.plot_wireframe(X, Y, Z, rstride=2, cstride=2)\n",
    "ax.set_zlim(-1,1)\n",
    "\n",
    "def update(i, ax, fig):\n",
    "    ax.cla()\n",
    "    phi = i * 360 / 2 / np.pi / 100\n",
    "    Z = generate(X, Y, phi)\n",
    "    wframe = ax.plot_wireframe(X, Y, Z, rstride=2, cstride=2)\n",
    "    ax.set_zlim(-1,1)\n",
    "    return wframe,\n",
    "\n",
    "anim = animation.FuncAnimation(fig, update, \n",
    "        frames=range(100), \n",
    "        fargs=(ax, fig), interval=100)\n",
    "\n",
    "\n",
    "display_animation(anim, default_mode='loop')"
   ]
  },
  {
   "cell_type": "code",
   "execution_count": null,
   "metadata": {
    "collapsed": true
   },
   "outputs": [],
   "source": [
    "# I would also like to say that I experiments with the collapsed version of the shallow water advection/diffusion as well.\n",
    "# This is the update code that I used to produce that wire frame.\n",
    "# This was learned from my advanced fluid dynamics class this year.\n",
    "# I have a working version of this code in Matlab.\n",
    "\n",
    "def update(i, ax, fig):\n",
    "    ax.cla()\n",
    "\n",
    "    ho=h\n",
    "    for i in range(1,Nx-2):\n",
    "        for j in range(1,Ny-2):\n",
    "            h[i,j]= ho[i,j] - (0.5*dt*u/dx)*(ho[i+1,j] - ho[i-1,j]) - (0.5*dt*v/dy)*(ho[i,j+1] - ho[i,j-1]) + D*dt*(((ho[i+1,j] - 2*ho[i,j] + ho[i-1,j])/(dx*dx)) + ((ho[i,j+1] - 2*ho[i,j] + ho[i,j-1])/(dy*dy)))\n",
    "\n",
    "    for i in range(0,Nx-1):\n",
    "        h[i,0] = h[i,1]\n",
    "        \n",
    "    for j in range(0,Ny-1):\n",
    "        h[0,j] = h[1,j]\n",
    "        h[Nx-1,j] = h[Nx-2,j]        \n",
    "    \n",
    "    time = t + dt\n",
    "                      \n",
    "    wframe = ax.plot_wireframe(X, Y, h, rstride=2, cstride=2)\n",
    "    ax.set_zlim(0,1)\n",
    "    return wframe\n",
    "\n",
    "anim = animation.FuncAnimation(fig, update, \n",
    "        frames=range(100), \n",
    "        fargs=(ax, fig), interval=100)\n",
    "\n",
    "\n",
    "display_animation(anim, default_mode='once')"
   ]
  }
 ],
 "metadata": {
  "kernelspec": {
   "display_name": "Python 3",
   "language": "python",
   "name": "python3"
  },
  "language_info": {
   "codemirror_mode": {
    "name": "ipython",
    "version": 3
   },
   "file_extension": ".py",
   "mimetype": "text/x-python",
   "name": "python",
   "nbconvert_exporter": "python",
   "pygments_lexer": "ipython3",
   "version": "3.5.1"
  }
 },
 "nbformat": 4,
 "nbformat_minor": 0
}
